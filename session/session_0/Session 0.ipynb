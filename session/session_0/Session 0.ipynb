{
 "cells": [
  {
   "cell_type": "markdown",
   "metadata": {
    "slideshow": {
     "slide_type": "slide"
    }
   },
   "source": [
    "# Welcome to BME 590: Machine Learning in Imaging\n",
    "\n"
   ]
  },
  {
   "cell_type": "markdown",
   "metadata": {
    "slideshow": {
     "slide_type": "subslide"
    }
   },
   "source": [
    "## People\n",
    "\n",
    "<img src=\"https://bme.duke.edu/sites/bme.duke.edu/files/u12/xhorstmeyer_200x200px.jpg.pagespeed.ic.SLWkDogtxs.webp\" alt=\"Roarke Horstmeyer\" width=\"100\"/>  \n",
    "Roarke Horstmeyer - rwh4@duke.edu  | Office location: CIEMAS 2569  \n",
    "Office hours: Wednesdays 3:00pm-4:30pm  | Thursdays 10:00am-11:30pm  "
   ]
  },
  {
   "cell_type": "markdown",
   "metadata": {
    "slideshow": {
     "slide_type": "subslide"
    }
   },
   "source": [
    "<img src=\"https://scholars.duke.edu/file/i8074692/image_8074692.jpg\" alt=\"Kevin Zhou\" width=\"100\"/>  \n",
    "Kevin Zhou - kevin.zhou@duke.edu"
   ]
  },
  {
   "cell_type": "markdown",
   "metadata": {
    "slideshow": {
     "slide_type": "subslide"
    }
   },
   "source": [
    "<img src=\"https://avatars0.githubusercontent.com/u/5455421?s=460&v=4\" alt=\"Ouwen Huang\" width=\"100\"/>  \n",
    "Ouwen Huang - ouwen.huang@duke.edu  "
   ]
  },
  {
   "cell_type": "markdown",
   "metadata": {
    "slideshow": {
     "slide_type": "slide"
    }
   },
   "source": [
    "# Resources\n",
    "\n",
    "### [Class Github](https://github.com/Ouwen/BME-590-Medical-Imaging)\n",
    " - This is where homeworks scaffolds and session notes will be stored\n",
    " \n",
    "### [Slack](https://deepimaging.slack.com)\n",
    " - This is where you can ask questions have discussion"
   ]
  },
  {
   "cell_type": "markdown",
   "metadata": {
    "slideshow": {
     "slide_type": "slide"
    }
   },
   "source": [
    "# Homeworks: 40%\n",
    "\n",
    "### Homework submissions will be through a google forms link provided in the homework scaffold\n",
    " - You'll include your netid, name, and email\n",
    " - Programming Assignments will be saved on github and submitted as a link on Google Forms.\n",
    " - Pen and Paper Assignments will be submitted through a file attachement on Google Forms.\n"
   ]
  },
  {
   "cell_type": "markdown",
   "metadata": {
    "slideshow": {
     "slide_type": "slide"
    }
   },
   "source": [
    "# Session 0: Outline\n",
    " - Going Over [Survey](https://docs.google.com/presentation/d/1jzY5i1LLoeaaW9IGgxgcP67h4rmWk3g-7PekASodTGI/edit#slide=id.p) Results"
   ]
  },
  {
   "cell_type": "markdown",
   "metadata": {
    "slideshow": {
     "slide_type": "subslide"
    }
   },
   "source": [
    "- What are Juypter Notebooks: \n",
    "     - Bash Shell\n",
    "     - Python\n",
    "     - Markdown"
   ]
  },
  {
   "cell_type": "markdown",
   "metadata": {
    "slideshow": {
     "slide_type": "subslide"
    }
   },
   "source": [
    " - Instances\n",
    "     - Local Instances\n",
    "     - Cloud Instances (GCP)\n",
    "     - Docker (maybe)\n",
    "     \n",
    " - Using github"
   ]
  },
  {
   "cell_type": "markdown",
   "metadata": {
    "slideshow": {
     "slide_type": "subslide"
    }
   },
   "source": [
    "# Homework\n",
    " - Submission for homework 0.5 is here: https://goo.gl/forms/NS5tp08lcq6OjNst1\n",
    " - Run a GCP instance with a juypter notebook running. Screenshot it and submit the image.\n",
    " - Clone the class github, submit a juypter notebook introducing yourself"
   ]
  },
  {
   "cell_type": "markdown",
   "metadata": {
    "slideshow": {
     "slide_type": "slide"
    }
   },
   "source": [
    "# Jupyter Notebooks\n",
    "\n",
    "Jupyter is a program to organize code and experiments. These notebooks are saved as `.ipyn` files (interactive python notebook)\n",
    "- Jupyter is run from the shell, we will review the bash shell\n",
    "     - file system\n",
    "         - `ls`,  `cd`, `mkdir`, `cp`, `rm`, `cat`\n",
    "     - permissions\n",
    "         - `sudo`\n",
    "     - network\n",
    "         - `curl`\n",
    "     - installed\n",
    "        - `screen`: example `screen -S my_screen`\n",
    "        - `python3`\n",
    "        - `jupyter`: example `jupyter notebook`\n",
    "        - `gsutil`: installing `curl https://sdk.cloud.google.com | bash`\n",
    "        - `ssh`\n",
    "- It runs `IPython` which is a superset of `python`.\n",
    "- Compiles Markdown"
   ]
  },
  {
   "cell_type": "code",
   "execution_count": 8,
   "metadata": {
    "slideshow": {
     "slide_type": "subslide"
    }
   },
   "outputs": [
    {
     "name": "stdout",
     "output_type": "stream",
     "text": [
      "Hello World\n"
     ]
    }
   ],
   "source": [
    "print('Hello World')"
   ]
  },
  {
   "cell_type": "code",
   "execution_count": 1,
   "metadata": {
    "slideshow": {
     "slide_type": "subslide"
    }
   },
   "outputs": [
    {
     "name": "stdout",
     "output_type": "stream",
     "text": [
      "Session 0.ipynb\r\n"
     ]
    }
   ],
   "source": [
    "# This will list all files in the directory just like shell\n",
    "!ls"
   ]
  },
  {
   "cell_type": "markdown",
   "metadata": {
    "slideshow": {
     "slide_type": "subslide"
    }
   },
   "source": [
    "# This is markdown\n",
    "## It is a really\n",
    "### Simple\n",
    "#### Text editor\n",
    "##### Very popular on the web, stackoverflow uses it, github uses it.\n",
    "Check out this: https://github.com/adam-p/markdown-here/wiki/Markdown-Cheatsheet\n",
    "\n",
    "\n",
    "```python\n",
    "for i in range(10):\n",
    "    print(i)\n",
    "```"
   ]
  },
  {
   "cell_type": "markdown",
   "metadata": {
    "slideshow": {
     "slide_type": "slide"
    }
   },
   "source": [
    "# Run your own Juypter Instance\n",
    "\n",
    "# First install python: https://www.python.org/downloads/\n",
    "\n",
    "# Then install jupyter\n",
    "```bash\n",
    "python3 -m pip install --upgrade pip\n",
    "python3 -m pip install jupyter\n",
    "```\n",
    "\n",
    "# Run the Jupyter Notebook Locally\n",
    "```bash\n",
    "jupyter notebook\n",
    "```"
   ]
  },
  {
   "cell_type": "markdown",
   "metadata": {
    "slideshow": {
     "slide_type": "slide"
    }
   },
   "source": [
    "# Juypter Notebook with Google Cloud\n",
    "\n",
    "Credits: https://google.secure.force.com/GCPEDU?cid=L5coc3IsY%2BAzvZwfHGS3tFSvTz4wQXc8TQs7ZOvU%2BJh3lwMo8veKfLd0VG4G2XZa\n",
    "\n",
    "Follow along to setup your cloud instance"
   ]
  },
  {
   "cell_type": "markdown",
   "metadata": {
    "slideshow": {
     "slide_type": "slide"
    }
   },
   "source": [
    "# Github\n",
    "\n",
    "Great way to manage code\n",
    " - Cloning: `git clone <http repo>`\n",
    " - Forking: Just like `git clone`, but your account owns it (feature of github)\n",
    " - File Tracking:   \n",
    "     `git diff [filename or directory]`  \n",
    "     `git add [filename or directory]`  \n",
    "     `git commit -m \"my notes\"`\n",
    "     \n",
    "\n",
    "Issue Tagging with @[username]"
   ]
  }
 ],
 "metadata": {
  "celltoolbar": "Slideshow",
  "kernelspec": {
   "display_name": "Python 3",
   "language": "python",
   "name": "python3"
  },
  "language_info": {
   "codemirror_mode": {
    "name": "ipython",
    "version": 3
   },
   "file_extension": ".py",
   "mimetype": "text/x-python",
   "name": "python",
   "nbconvert_exporter": "python",
   "pygments_lexer": "ipython3",
   "version": "3.7.2"
  }
 },
 "nbformat": 4,
 "nbformat_minor": 2
}
